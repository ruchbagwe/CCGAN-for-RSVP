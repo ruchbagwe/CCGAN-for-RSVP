{
 "cells": [
  {
   "cell_type": "code",
   "execution_count": 1,
   "metadata": {},
   "outputs": [],
   "source": [
    "import sys\n",
    "import os\n",
    "import random\n",
    "import math\n",
    "import time\n",
    "import torch"
   ]
  },
  {
   "cell_type": "code",
   "execution_count": 2,
   "metadata": {},
   "outputs": [],
   "source": [
    "torch.utils.backcompat.broadcast_warning.enabled = True\n",
    "from torch.utils.data import DataLoader\n",
    "from torchvision import transforms, datasets\n",
    "import torch.nn as nn\n",
    "import torch.nn.functional as F\n",
    "import torch.optim\n",
    "import torch.backends.cudnn as cudnn;"
   ]
  },
  {
   "cell_type": "code",
   "execution_count": 3,
   "metadata": {},
   "outputs": [],
   "source": [
    "cudnn.benchmark = True\n",
    "from scipy.fftpack import fft, rfft, fftfreq, irfft, ifft, rfftfreq\n",
    "import numpy as np\n",
    "import matplotlib\n",
    "import matplotlib.pyplot as plt\n",
    "from matplotlib.pyplot import *"
   ]
  },
  {
   "cell_type": "code",
   "execution_count": 4,
   "metadata": {},
   "outputs": [],
   "source": [
    "import torch\n",
    "splits_by_image_file = torch.load('block_splits_by_image.pth')\n",
    "eeg_data_file = torch.load('eeg_dataset.pth')"
   ]
  },
  {
   "cell_type": "code",
   "execution_count": 7,
   "metadata": {},
   "outputs": [],
   "source": [
    "class EEGDataset:\n",
    "\n",
    "    def __init__(self):\n",
    "        \n",
    "        loaded = eeg_data_file\n",
    "        self.data = loaded[\"dataset\"]\n",
    "        self.labels = loaded[\"labels\"]\n",
    "        self.images = loaded[\"images\"]\n",
    "        self.means = loaded[\"means\"]\n",
    "        self.stddevs = loaded[\"stddevs\"]\n",
    "        # Compute size\n",
    "        self.size = len(self.data)\n",
    "\n",
    "    # Get size\n",
    "    def __len__(self):\n",
    "        return self.size\n",
    "\n",
    "    # Get item\n",
    "    def __getitem__(self, i):\n",
    "        # Process EEG\n",
    "        eeg = ((self.data[i][\"eeg\"].float() - self.means) / self.stddevs)  # .t() # CxT\n",
    "        eeg = eeg.t()\n",
    "        eeg = eeg[20:450, :]  # Making all tensors shape=(430,128)\n",
    "        # Get label\n",
    "        label = self.data[i][\"label\"]\n",
    "        # Return\n",
    "        return eeg, label\n",
    "\n",
    "\n",
    "# Splitter class\n",
    "class Splitter:\n",
    "\n",
    "    def __init__(self, dataset, split_path, split_num=0, split_name=\"train\"):\n",
    "        # Set EEG dataset\n",
    "        self.dataset = dataset\n",
    "        # Load split\n",
    "        loaded = splits_by_image_file\n",
    "        self.split_idx = loaded[\"splits\"][split_num][split_name]\n",
    "        # Filter data\n",
    "        self.split_idx = [i for i in self.split_idx if 450 <= self.dataset.data[i][\"eeg\"].size(1) <= 600]\n",
    "        # Compute size\n",
    "        self.size = len(self.split_idx)\n",
    "\n",
    "    # Get size\n",
    "    def __len__(self):\n",
    "        return self.size\n",
    "\n",
    "    # Get item\n",
    "    def __getitem__(self, i):\n",
    "        # Get sample from dataset\n",
    "        eeg, label = self.dataset[self.split_idx[i]]\n",
    "        # Return\n",
    "        return eeg, label"
   ]
  },
  {
   "cell_type": "code",
   "execution_count": 8,
   "metadata": {},
   "outputs": [],
   "source": [
    "class EncoderModel(nn.Module):\n",
    "\n",
    "    def __init__(self, input_size, lstm_size, lstm_layers, embedding_size, num_classes):\n",
    "        # Call parent\n",
    "        super().__init__()\n",
    "        # Define parameters\n",
    "        self.input_size = input_size\n",
    "        self.lstm_size = lstm_size\n",
    "        self.lstm_layers = lstm_layers\n",
    "        self.embedding_size = embedding_size\n",
    "        self.num_classes = num_classes\n",
    "        # Define internal modules\n",
    "        self.lstm = nn.LSTM(input_size, lstm_size, num_layers=lstm_layers, batch_first=True)\n",
    "        self.embedding = nn.Linear(lstm_size, embedding_size)\n",
    "        self.classifier = nn.Linear(embedding_size, num_classes)\n",
    "\n",
    "    def forward(self, x):\n",
    "        # Forward LSTM and get final state\n",
    "        x = self.lstm(x)[0][:, -1, :]\n",
    "        # Forward embedding\n",
    "        emb = F.relu(self.embedding(x))\n",
    "        # Forward classifier\n",
    "        x = self.classifier(emb)\n",
    "        return x"
   ]
  },
  {
   "cell_type": "code",
   "execution_count": 9,
   "metadata": {},
   "outputs": [],
   "source": [
    "# Load dataset\n",
    "dataset = EEGDataset()\n",
    "# Create loaders\n",
    "mini_batch = 16\n",
    "loaders = {split: DataLoader(Splitter(dataset, split_path=splits_by_image_file, split_num=0, split_name=split), batch_size=mini_batch, drop_last=True, shuffle=True) for split in [\"train\", \"val\", \"test\"]}"
   ]
  },
  {
   "cell_type": "code",
   "execution_count": 10,
   "metadata": {},
   "outputs": [],
   "source": [
    "def train(epochs, printLossesAtEpoch, lstm_units, lstm_layers, embedding_size, num_classes, mini_batch):\n",
    "    model = EncoderModel(128, lstm_units, lstm_layers, embedding_size, num_classes)  \n",
    "    optimizer = getattr(torch.optim, \"Adam\")(model.parameters(), lr=0.001)\n",
    "  \n",
    "  \n",
    "    # Set up arrays to use to store performance\n",
    "    trLoss = np.array([])\n",
    "    vaLoss = np.array([])\n",
    "  \n",
    "  \n",
    "    # Start training\n",
    "    for epoch in range(1, epochs + 1):\n",
    "        # Initialize loss/accuracy variables\n",
    "        losses = {\"train\": 0, \"val\": 0, \"test\": 0}\n",
    "        accuracies = {\"train\": 0, \"val\": 0, \"test\": 0}\n",
    "        counts = {\"train\": 0, \"val\": 0, \"test\": 0}\n",
    "        # Process each split\n",
    "        for split in (\"train\", \"val\", \"test\"):\n",
    "            #Set network mode\n",
    "            if split == \"train\":\n",
    "                model.train()\n",
    "                torch.set_grad_enabled(True)\n",
    "            else:\n",
    "                model.eval()\n",
    "                torch.set_grad_enabled(False)\n",
    "            # Process all split batches\n",
    "            for i, (input, target) in enumerate(loaders[split]):\n",
    "                # Forward\n",
    "                output = model(input)\n",
    "                loss = F.cross_entropy(output, target)\n",
    "                losses[split] += loss.item()\n",
    "                # Compute accuracy\n",
    "                _, pred = output.data.max(1)\n",
    "                correct = pred.eq(target.data).sum().item()\n",
    "                accuracy = correct / input.data.size(0)\n",
    "                accuracies[split] += accuracy\n",
    "                counts[split] += 1\n",
    "                # Backward and optimize\n",
    "                if split == \"train\":\n",
    "                    optimizer.zero_grad()\n",
    "                    loss.backward()\n",
    "                    optimizer.step()\n",
    "        # Print info at the end of the epoch\n",
    "        print(\"Epoch {0}: TrL={1:.4f}, TrA={2:.4f}, VL={3:.4f}, VA={4:.4f}, TeL={5:.4f}, TeA={6:.4f}\".format(epoch,\n",
    "                                                                                                           losses[\n",
    "                                                                                                               \"train\"] /\n",
    "                                                                                                           counts[\n",
    "                                                                                                               \"train\"],\n",
    "                                                                                                           accuracies[\n",
    "                                                                                                               \"train\"] /\n",
    "                                                                                                           counts[\n",
    "                                                                                                               \"train\"],\n",
    "                                                                                                           losses[\"val\"] /\n",
    "                                                                                                           counts[\"val\"],\n",
    "                                                                                                           accuracies[\n",
    "                                                                                                               \"val\"] /\n",
    "                                                                                                           counts[\"val\"],\n",
    "                                                                                                           losses[\n",
    "                                                                                                               \"test\"] /\n",
    "                                                                                                           counts[\"test\"],\n",
    "                                                                                                           accuracies[\n",
    "                                                                                                               \"test\"] /\n",
    "                                                                                                           counts[\n",
    "                                                                                                               \"test\"]))\n",
    "        # Now add the training loss, val loss and epoch to an np array\n",
    "        trLoss = np.append(trLoss, losses[\"train\"] / counts[\"train\"])\n",
    "        vaLoss = np.append(vaLoss, losses[\"val\"] / counts[\"val\"])\n",
    "        numEpochs = trLoss.shape[0]\n",
    "        epochsToPlot = np.linspace(1, numEpochs, numEpochs)\n",
    "\n",
    "      \n",
    "      \n",
    "        # save the model \n",
    "        PATH = \"D:\\\\Ruchi\\\\Thesis\\\\work\\\\EEG-RSVP\\\\Embedding the EEG\\\\encoder_model_1.pth\"\n",
    "        torch.save(model.state_dict(), PATH)\n",
    "      \n",
    "      \n",
    "      \n",
    "        # Print the loss vs epoch graph\n",
    "\n",
    "        if epoch % printLossesAtEpoch == 0:\n",
    "            print(\"Performance:\")\n",
    "            plot(epochsToPlot, trLoss, label='Training Loss')\n",
    "            plot(epochsToPlot, vaLoss, label='Validation Loss')\n",
    "            legend()\n",
    "            plt.xlabel('Epoch')\n",
    "            plt.ylabel('Loss')\n",
    "            plt.savefig('figureSaved_lstmLays2_attempt3.png')\n",
    "            plt.show()\n",
    "          \n",
    "    PATH = 'D:\\\\Ruchi\\\\Thesis\\\\work\\\\EEG-RSVP\\\\Embedding the EEG\\\\encoder_model_1.pth'\n",
    "    torch.save(model.state_dict(), PATH)"
   ]
  },
  {
   "cell_type": "code",
   "execution_count": 11,
   "metadata": {},
   "outputs": [
    {
     "name": "stdout",
     "output_type": "stream",
     "text": [
      "Epoch 1: TrL=2.8470, TrA=0.1671, VL=2.2273, VA=0.2636, TeL=2.2035, TeA=0.2712\n",
      "Epoch 2: TrL=1.7928, TrA=0.3912, VL=1.5588, VA=0.4703, TeL=1.5340, TeA=0.4733\n",
      "Epoch 3: TrL=1.3800, TrA=0.5299, VL=1.3394, VA=0.5413, TeL=1.3134, TeA=0.5565\n",
      "Epoch 4: TrL=1.1364, TrA=0.6284, VL=1.2410, VA=0.5756, TeL=1.2168, TeA=0.5811\n",
      "Epoch 5: TrL=1.0204, TrA=0.6554, VL=0.9574, VA=0.6799, TeL=0.9508, TeA=0.6870\n",
      "Epoch 6: TrL=0.7219, TrA=0.7544, VL=0.7742, VA=0.7334, TeL=0.6883, TeA=0.7692\n",
      "Epoch 7: TrL=0.6058, TrA=0.7999, VL=0.7236, VA=0.7535, TeL=0.7161, TeA=0.7692\n",
      "Epoch 8: TrL=0.5910, TrA=0.8096, VL=0.8171, VA=0.7394, TeL=0.8280, TeA=0.7470\n",
      "Epoch 9: TrL=0.4328, TrA=0.8556, VL=0.6557, VA=0.7923, TeL=0.6406, TeA=0.8009\n",
      "Epoch 10: TrL=0.4078, TrA=0.8673, VL=0.4798, VA=0.8397, TeL=0.4695, TeA=0.8412\n",
      "Epoch 11: TrL=0.3164, TrA=0.8965, VL=0.4355, VA=0.8634, TeL=0.4477, TeA=0.8679\n",
      "Epoch 12: TrL=0.3077, TrA=0.9009, VL=0.3665, VA=0.8780, TeL=0.3241, TeA=0.8861\n",
      "Epoch 13: TrL=0.3989, TrA=0.8781, VL=0.5014, VA=0.8407, TeL=0.4878, TeA=0.8422\n",
      "Epoch 14: TrL=0.2406, TrA=0.9266, VL=0.4530, VA=0.8639, TeL=0.3948, TeA=0.8725\n",
      "Epoch 15: TrL=0.2251, TrA=0.9291, VL=0.3534, VA=0.8876, TeL=0.3564, TeA=0.8851\n",
      "Performance:\n"
     ]
    },
    {
     "data": {
      "image/png": "[encoded data removed]",
      "text/plain": [
       "<Figure size 432x288 with 1 Axes>"
      ]
     },
     "metadata": {
      "needs_background": "light"
     },
     "output_type": "display_data"
    },
    {
     "name": "stdout",
     "output_type": "stream",
     "text": [
      "Epoch 16: TrL=0.2664, TrA=0.9139, VL=0.4389, VA=0.8690, TeL=0.4280, TeA=0.8624\n",
      "Epoch 17: TrL=0.1800, TrA=0.9409, VL=0.4681, VA=0.8604, TeL=0.4634, TeA=0.8634\n",
      "Epoch 18: TrL=0.1567, TrA=0.9516, VL=0.2951, VA=0.9083, TeL=0.3187, TeA=0.9088\n",
      "Epoch 19: TrL=0.1707, TrA=0.9468, VL=0.2917, VA=0.9118, TeL=0.3472, TeA=0.8947\n",
      "Epoch 20: TrL=0.1363, TrA=0.9569, VL=0.3030, VA=0.9032, TeL=0.3176, TeA=0.9103\n",
      "Epoch 21: TrL=0.1523, TrA=0.9525, VL=0.4257, VA=0.8619, TeL=0.4082, TeA=0.8705\n",
      "Epoch 22: TrL=0.1826, TrA=0.9448, VL=0.3026, VA=0.9057, TeL=0.2808, TeA=0.9229\n",
      "Epoch 23: TrL=0.1697, TrA=0.9521, VL=0.2975, VA=0.9057, TeL=0.3152, TeA=0.9012\n",
      "Epoch 24: TrL=0.1474, TrA=0.9499, VL=0.3066, VA=0.9052, TeL=0.3335, TeA=0.8992\n",
      "Epoch 25: TrL=0.2204, TrA=0.9320, VL=0.5758, VA=0.8276, TeL=0.5709, TeA=0.8382\n",
      "Epoch 26: TrL=0.1803, TrA=0.9415, VL=0.4699, VA=0.8720, TeL=0.5645, TeA=0.8584\n",
      "Epoch 27: TrL=0.1395, TrA=0.9579, VL=0.2290, VA=0.9269, TeL=0.2892, TeA=0.9123\n",
      "Epoch 28: TrL=0.1109, TrA=0.9650, VL=0.2515, VA=0.9345, TeL=0.3015, TeA=0.9118\n",
      "Epoch 29: TrL=0.1094, TrA=0.9662, VL=0.2172, VA=0.9360, TeL=0.2473, TeA=0.9264\n",
      "Epoch 30: TrL=0.1173, TrA=0.9645, VL=0.2496, VA=0.9224, TeL=0.2727, TeA=0.9189\n",
      "Performance:\n"
     ]
    },
    {
     "data": {
      "image/png": "[encoded data removed]",
      "text/plain": [
       "<Figure size 432x288 with 1 Axes>"
      ]
     },
     "metadata": {
      "needs_background": "light"
     },
     "output_type": "display_data"
    },
    {
     "name": "stdout",
     "output_type": "stream",
     "text": [
      "Epoch 31: TrL=0.0929, TrA=0.9716, VL=0.1996, VA=0.9430, TeL=0.2107, TeA=0.9400\n",
      "Epoch 32: TrL=0.1247, TrA=0.9591, VL=0.2533, VA=0.9219, TeL=0.2670, TeA=0.9214\n",
      "Epoch 33: TrL=0.1265, TrA=0.9625, VL=0.6737, VA=0.8538, TeL=0.7001, TeA=0.8533\n",
      "Epoch 34: TrL=0.1602, TrA=0.9532, VL=0.2748, VA=0.9229, TeL=0.2722, TeA=0.9224\n",
      "Epoch 35: TrL=0.0443, TrA=0.9879, VL=0.1767, VA=0.9491, TeL=0.2071, TeA=0.9405\n",
      "Epoch 36: TrL=0.0738, TrA=0.9772, VL=0.1904, VA=0.9446, TeL=0.2171, TeA=0.9410\n",
      "Epoch 37: TrL=0.0697, TrA=0.9781, VL=0.3214, VA=0.9143, TeL=0.3193, TeA=0.9178\n",
      "Epoch 38: TrL=0.1079, TrA=0.9702, VL=0.2798, VA=0.9234, TeL=0.2982, TeA=0.9168\n",
      "Epoch 39: TrL=0.0837, TrA=0.9738, VL=0.2190, VA=0.9420, TeL=0.2350, TeA=0.9375\n",
      "Epoch 40: TrL=0.0864, TrA=0.9741, VL=0.2759, VA=0.9173, TeL=0.3216, TeA=0.9138\n",
      "Epoch 41: TrL=0.0948, TrA=0.9721, VL=0.3571, VA=0.9037, TeL=0.3838, TeA=0.8977\n",
      "Epoch 42: TrL=0.0902, TrA=0.9755, VL=0.4428, VA=0.8896, TeL=0.4998, TeA=0.8831\n",
      "Epoch 43: TrL=0.1062, TrA=0.9681, VL=0.2035, VA=0.9375, TeL=0.2488, TeA=0.9249\n",
      "Epoch 44: TrL=0.0857, TrA=0.9743, VL=0.1610, VA=0.9551, TeL=0.2142, TeA=0.9385\n",
      "Epoch 45: TrL=0.0349, TrA=0.9897, VL=0.1511, VA=0.9587, TeL=0.1618, TeA=0.9506\n",
      "Performance:\n"
     ]
    },
    {
     "data": {
      "image/png": "[encoded data removed]",
      "text/plain": [
       "<Figure size 432x288 with 1 Axes>"
      ]
     },
     "metadata": {
      "needs_background": "light"
     },
     "output_type": "display_data"
    },
    {
     "name": "stdout",
     "output_type": "stream",
     "text": [
      "Epoch 46: TrL=0.0424, TrA=0.9896, VL=0.1828, VA=0.9461, TeL=0.2002, TeA=0.9420\n",
      "Epoch 47: TrL=0.0935, TrA=0.9725, VL=0.3328, VA=0.9128, TeL=0.3221, TeA=0.9173\n",
      "Epoch 48: TrL=0.1096, TrA=0.9647, VL=0.2417, VA=0.9299, TeL=0.2722, TeA=0.9284\n",
      "Epoch 49: TrL=0.0518, TrA=0.9845, VL=0.2474, VA=0.9320, TeL=0.2684, TeA=0.9249\n",
      "Epoch 50: TrL=0.0485, TrA=0.9854, VL=0.2496, VA=0.9380, TeL=0.3271, TeA=0.9239\n",
      "Epoch 51: TrL=0.0790, TrA=0.9772, VL=0.2325, VA=0.9395, TeL=0.2911, TeA=0.9209\n",
      "Epoch 52: TrL=0.0542, TrA=0.9850, VL=0.2935, VA=0.9269, TeL=0.3936, TeA=0.9118\n",
      "Epoch 53: TrL=0.0997, TrA=0.9720, VL=0.2214, VA=0.9410, TeL=0.2735, TeA=0.9294\n",
      "Epoch 54: TrL=0.0818, TrA=0.9776, VL=0.1762, VA=0.9481, TeL=0.2164, TeA=0.9390\n",
      "Epoch 55: TrL=0.0599, TrA=0.9830, VL=0.1749, VA=0.9506, TeL=0.1816, TeA=0.9521\n",
      "Epoch 56: TrL=0.0371, TrA=0.9893, VL=0.1855, VA=0.9551, TeL=0.1940, TeA=0.9546\n",
      "Epoch 57: TrL=0.0131, TrA=0.9961, VL=0.1381, VA=0.9627, TeL=0.1471, TeA=0.9642\n",
      "Epoch 58: TrL=0.0192, TrA=0.9946, VL=0.1880, VA=0.9496, TeL=0.2029, TeA=0.9506\n",
      "Epoch 59: TrL=0.0934, TrA=0.9748, VL=0.4734, VA=0.8916, TeL=0.4587, TeA=0.8942\n",
      "Epoch 60: TrL=0.0923, TrA=0.9750, VL=0.2310, VA=0.9415, TeL=0.1959, TeA=0.9430\n",
      "Performance:\n"
     ]
    },
    {
     "data": {
      "image/png": "[encoded data removed]",
      "text/plain": [
       "<Figure size 432x288 with 1 Axes>"
      ]
     },
     "metadata": {
      "needs_background": "light"
     },
     "output_type": "display_data"
    }
   ],
   "source": [
    "train(epochs=60, printLossesAtEpoch=15, lstm_units=128, lstm_layers=1, embedding_size=126, num_classes=40, mini_batch=mini_batch)"
   ]
  },
  {
   "cell_type": "code",
   "execution_count": 12,
   "metadata": {},
   "outputs": [],
   "source": [
    "class ModifiedEncoderModel(nn.Module):\n",
    "\n",
    "    def __init__(self, input_size, lstm_size, lstm_layers, embedding_size, num_classes):\n",
    "        # Call parent\n",
    "        super().__init__()\n",
    "        # Define parameters\n",
    "        self.input_size = input_size\n",
    "        self.lstm_size = lstm_size\n",
    "        self.lstm_layers = lstm_layers\n",
    "        self.embedding_size = embedding_size\n",
    "        self.num_classes = num_classes\n",
    "        # Define internal modules\n",
    "        self.lstm = nn.LSTM(input_size, lstm_size, num_layers=lstm_layers, batch_first=True)\n",
    "        self.embedding = nn.Linear(lstm_size, embedding_size)\n",
    "        self.classifier = nn.Linear(embedding_size, num_classes)\n",
    "\n",
    "    def forward(self, x):\n",
    "        # Prepare LSTM initiale state\n",
    "        batch_size = x.size(0)\n",
    "        # Forward LSTM and get final state\n",
    "        x = self.lstm(x)[0][:, -1, :]\n",
    "        # Forward embedding\n",
    "        emb = F.relu(self.embedding(x))\n",
    "        EEG_emb_tot_np[label] = np.add(EEG_emb_tot_np[label], emb.detach().numpy())\n",
    "        # Forward classifier\n",
    "        x = self.classifier(emb)\n",
    "        return x"
   ]
  },
  {
   "cell_type": "code",
   "execution_count": 13,
   "metadata": {},
   "outputs": [
    {
     "data": {
      "text/plain": [
       "ModifiedEncoderModel(\n",
       "  (lstm): LSTM(128, 128, batch_first=True)\n",
       "  (embedding): Linear(in_features=128, out_features=126, bias=True)\n",
       "  (classifier): Linear(in_features=126, out_features=40, bias=True)\n",
       ")"
      ]
     },
     "execution_count": 13,
     "metadata": {},
     "output_type": "execute_result"
    }
   ],
   "source": [
    "classifier = ModifiedEncoderModel(128, 128, 1, 126, 40) \n",
    "classifier.load_state_dict(torch.load('D:\\\\Ruchi\\\\Thesis\\\\work\\\\EEG-RSVP\\\\Embedding the EEG\\\\encoder_model_1.pth'))\n",
    "classifier.eval()"
   ]
  },
  {
   "cell_type": "code",
   "execution_count": 14,
   "metadata": {},
   "outputs": [
    {
     "name": "stdout",
     "output_type": "stream",
     "text": [
      "Unique Values along with occurrence Count\n",
      "0.0  Occurs :  300  times\n",
      "1.0  Occurs :  300  times\n",
      "2.0  Occurs :  300  times\n",
      "3.0  Occurs :  300  times\n",
      "4.0  Occurs :  300  times\n",
      "5.0  Occurs :  300  times\n",
      "6.0  Occurs :  300  times\n",
      "7.0  Occurs :  300  times\n",
      "8.0  Occurs :  300  times\n",
      "9.0  Occurs :  300  times\n",
      "10.0  Occurs :  300  times\n",
      "11.0  Occurs :  300  times\n",
      "12.0  Occurs :  300  times\n",
      "13.0  Occurs :  300  times\n",
      "14.0  Occurs :  300  times\n",
      "15.0  Occurs :  300  times\n",
      "16.0  Occurs :  300  times\n",
      "17.0  Occurs :  300  times\n",
      "18.0  Occurs :  294  times\n",
      "19.0  Occurs :  300  times\n",
      "20.0  Occurs :  300  times\n",
      "21.0  Occurs :  300  times\n",
      "22.0  Occurs :  300  times\n",
      "23.0  Occurs :  300  times\n",
      "24.0  Occurs :  300  times\n",
      "25.0  Occurs :  294  times\n",
      "26.0  Occurs :  294  times\n",
      "27.0  Occurs :  300  times\n",
      "28.0  Occurs :  300  times\n",
      "29.0  Occurs :  300  times\n",
      "30.0  Occurs :  300  times\n",
      "31.0  Occurs :  300  times\n",
      "32.0  Occurs :  300  times\n",
      "33.0  Occurs :  283  times\n",
      "34.0  Occurs :  300  times\n",
      "35.0  Occurs :  300  times\n",
      "36.0  Occurs :  300  times\n",
      "37.0  Occurs :  300  times\n",
      "38.0  Occurs :  300  times\n",
      "39.0  Occurs :  300  times\n"
     ]
    }
   ],
   "source": [
    "classes = np.array([])\n",
    "\n",
    "# Array to store the totals for each class\n",
    "EEG_emb_tot_np = np.zeros(shape=(40,126))\n",
    "\n",
    "\n",
    "\n",
    "for i in range(11965):\n",
    "    #get point\n",
    "    eeg_point, label = dataset.__getitem__(i)\n",
    "    #predict\n",
    "    eeg_point = eeg_point.unsqueeze(0)\n",
    "    output = classifier(eeg_point)\n",
    "    pred = output.max(1).indices.numpy()[0]\n",
    "\n",
    "    classes = np.append(classes, label)\n",
    "\n",
    "    \n",
    "# Get a tuple of unique values & their frequency in numpy array\n",
    "uniqueValues, occurCount = np.unique(classes, return_counts=True)\n",
    " \n",
    "# Zip both the arrays\n",
    "listOfUniques = zip(uniqueValues, occurCount)\n",
    " \n",
    "print('Unique Values along with occurrence Count')\n",
    "# Iterate over the zip object\n",
    "for elem in listOfUniques:\n",
    "    print(elem[0] , ' Occurs : ' , elem[1], ' times')"
   ]
  },
  {
   "cell_type": "code",
   "execution_count": 15,
   "metadata": {},
   "outputs": [],
   "source": [
    "# All classes (labels) have 300 embeddings apart from classes 18,25,26,33 which have 294,294,294,283 respectively\n",
    "# So we shall first divide embeddings by 300 and then pick out the four others, multiply by 300 and then divide by 294 or 283\n",
    "EEG_emb_avrg_np = np.zeros(shape=(40,126))\n",
    "\n",
    "\n",
    "# First do the average assuming all 300\n",
    "\n",
    "for i in range(40):\n",
    "    EEG_emb_avrg_np[i] = np.divide(EEG_emb_tot_np[i],300)\n",
    "\n",
    "\n",
    "# revert back to original for the classes without 300 total occurences\n",
    "EEG_emb_avrg_np[18] = EEG_emb_tot_np[18]*300\n",
    "EEG_emb_avrg_np[25] = EEG_emb_tot_np[25]*300\n",
    "EEG_emb_avrg_np[26] = EEG_emb_tot_np[26]*300\n",
    "EEG_emb_avrg_np[27] = EEG_emb_tot_np[27]*300\n",
    "\n",
    "\n",
    "\n",
    "# get correct average\n",
    "EEG_emb_avrg_np[18] = np.divide(EEG_emb_tot_np[18],294)\n",
    "EEG_emb_avrg_np[25] = np.divide(EEG_emb_tot_np[25],294)\n",
    "EEG_emb_avrg_np[26] = np.divide(EEG_emb_tot_np[26],294)\n",
    "EEG_emb_avrg_np[27] = np.divide(EEG_emb_tot_np[27],283)"
   ]
  },
  {
   "cell_type": "code",
   "execution_count": 16,
   "metadata": {},
   "outputs": [],
   "source": [
    "np.save('eeg_emb_german_shepherd',EEG_emb_avrg_np[12])\n",
    "np.save('eeg_emb_egyptian_cat',EEG_emb_avrg_np[39])\n",
    "np.save('eeg_emb_lycaenid_butterfly',EEG_emb_avrg_np[11])\n",
    "np.save('eeg_emb_panda',EEG_emb_avrg_np[8])\n",
    "np.save('eeg_emb_airliner',EEG_emb_avrg_np[36])\n",
    "np.save('eeg_emb_broom',EEG_emb_avrg_np[18])\n",
    "np.save('eeg_emb_cellphone',EEG_emb_avrg_np[15])\n",
    "np.save('eeg_emb_convertible',EEG_emb_avrg_np[24])\n",
    "np.save('eeg_emb_electric_guitar',EEG_emb_avrg_np[28])\n",
    "np.save('eeg_emb_golf_ball',EEG_emb_avrg_np[16])\n",
    "np.save('eeg_emb_piano',EEG_emb_avrg_np[30])\n",
    "np.save('eeg_emb_iron',EEG_emb_avrg_np[2])\n",
    "np.save('eeg_emb_jack-o-lantern',EEG_emb_avrg_np[14])\n",
    "np.save('eeg_emb_missile',EEG_emb_avrg_np[20])\n",
    "np.save('eeg_emb_mitten',EEG_emb_avrg_np[27])\n",
    "np.save('eeg_emb_radio_telescope',EEG_emb_avrg_np[38])\n",
    "np.save('eeg_emb_running_shoe',EEG_emb_avrg_np[13])\n",
    "np.save('eeg_emb_banana',EEG_emb_avrg_np[32])\n",
    "np.save('eeg_emb_daisy',EEG_emb_avrg_np[9])\n",
    "np.save('eeg_emb_bolete',EEG_emb_avrg_np[33])"
   ]
  },
  {
   "cell_type": "code",
   "execution_count": null,
   "metadata": {},
   "outputs": [],
   "source": []
  }
 ],
 "metadata": {
  "kernelspec": {
   "display_name": "Python 3",
   "language": "python",
   "name": "python3"
  },
  "language_info": {
   "codemirror_mode": {
    "name": "ipython",
    "version": 3
   },
   "file_extension": ".py",
   "mimetype": "text/x-python",
   "name": "python",
   "nbconvert_exporter": "python",
   "pygments_lexer": "ipython3",
   "version": "3.7.4"
  }
 },
 "nbformat": 4,
 "nbformat_minor": 2
}
